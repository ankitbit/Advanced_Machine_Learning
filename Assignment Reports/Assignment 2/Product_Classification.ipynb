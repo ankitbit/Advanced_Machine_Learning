{
  "nbformat": 4,
  "nbformat_minor": 0,
  "metadata": {
    "colab": {
      "name": "Product Classification.ipynb",
      "version": "0.3.2",
      "provenance": [],
      "include_colab_link": true
    },
    "kernelspec": {
      "name": "python3",
      "display_name": "Python 3"
    },
    "accelerator": "GPU"
  },
  "cells": [
    {
      "cell_type": "markdown",
      "metadata": {
        "id": "view-in-github",
        "colab_type": "text"
      },
      "source": [
        "<a href=\"https://colab.research.google.com/github/ankitbit/Advanced_Machine_Learning/blob/master/Assignment%20Reports/Assignment%202/Product_Classification.ipynb\" target=\"_parent\"><img src=\"https://colab.research.google.com/assets/colab-badge.svg\" alt=\"Open In Colab\"/></a>"
      ]
    },
    {
      "metadata": {
        "id": "Mg8XMvKaBDHT",
        "colab_type": "code",
        "colab": {
          "base_uri": "https://localhost:8080/",
          "height": 611
        },
        "outputId": "9c9f3441-4039-4587-8a16-4cba8398a51d"
      },
      "cell_type": "code",
      "source": [
        "! wget 'https://raw.githubusercontent.com/ankitbit/Deep_Learning/master/Assignment%20Reports/Assignment%202/data/cameras.tsv'\n",
        "! wget 'https://raw.githubusercontent.com/ankitbit/Deep_Learning/master/Assignment%20Reports/Assignment%202/data/clothing.tsv'\n",
        "! wget 'https://raw.githubusercontent.com/ankitbit/Deep_Learning/master/Assignment%20Reports/Assignment%202/data/home.tsv'"
      ],
      "execution_count": 1,
      "outputs": [
        {
          "output_type": "stream",
          "text": [
            "--2018-11-13 16:31:29--  https://raw.githubusercontent.com/ankitbit/Deep_Learning/master/Assignment%20Reports/Assignment%202/data/cameras.tsv\n",
            "Resolving raw.githubusercontent.com (raw.githubusercontent.com)... 151.101.0.133, 151.101.64.133, 151.101.128.133, ...\n",
            "Connecting to raw.githubusercontent.com (raw.githubusercontent.com)|151.101.0.133|:443... connected.\n",
            "HTTP request sent, awaiting response... 200 OK\n",
            "Length: 97776 (95K) [text/plain]\n",
            "Saving to: ‘cameras.tsv’\n",
            "\n",
            "\rcameras.tsv           0%[                    ]       0  --.-KB/s               \rcameras.tsv         100%[===================>]  95.48K  --.-KB/s    in 0.03s   \n",
            "\n",
            "2018-11-13 16:31:29 (3.66 MB/s) - ‘cameras.tsv’ saved [97776/97776]\n",
            "\n",
            "--2018-11-13 16:31:30--  https://raw.githubusercontent.com/ankitbit/Deep_Learning/master/Assignment%20Reports/Assignment%202/data/clothing.tsv\n",
            "Resolving raw.githubusercontent.com (raw.githubusercontent.com)... 151.101.0.133, 151.101.64.133, 151.101.128.133, ...\n",
            "Connecting to raw.githubusercontent.com (raw.githubusercontent.com)|151.101.0.133|:443... connected.\n",
            "HTTP request sent, awaiting response... 200 OK\n",
            "Length: 21653659 (21M) [text/plain]\n",
            "Saving to: ‘clothing.tsv’\n",
            "\n",
            "clothing.tsv        100%[===================>]  20.65M  30.7MB/s    in 0.7s    \n",
            "\n",
            "2018-11-13 16:31:31 (30.7 MB/s) - ‘clothing.tsv’ saved [21653659/21653659]\n",
            "\n",
            "--2018-11-13 16:31:32--  https://raw.githubusercontent.com/ankitbit/Deep_Learning/master/Assignment%20Reports/Assignment%202/data/home.tsv\n",
            "Resolving raw.githubusercontent.com (raw.githubusercontent.com)... 151.101.0.133, 151.101.64.133, 151.101.128.133, ...\n",
            "Connecting to raw.githubusercontent.com (raw.githubusercontent.com)|151.101.0.133|:443... connected.\n",
            "HTTP request sent, awaiting response... 200 OK\n",
            "Length: 657104 (642K) [text/plain]\n",
            "Saving to: ‘home.tsv’\n",
            "\n",
            "home.tsv            100%[===================>] 641.70K  --.-KB/s    in 0.08s   \n",
            "\n",
            "2018-11-13 16:31:32 (7.63 MB/s) - ‘home.tsv’ saved [657104/657104]\n",
            "\n"
          ],
          "name": "stdout"
        }
      ]
    },
    {
      "metadata": {
        "id": "eNyghpWVNGn4",
        "colab_type": "code",
        "colab": {}
      },
      "cell_type": "code",
      "source": [
        "%%capture\n",
        "! pip install gensim\n",
        "! pip install nltk"
      ],
      "execution_count": 0,
      "outputs": []
    },
    {
      "metadata": {
        "id": "VIElG7ChLTt9",
        "colab_type": "code",
        "colab": {}
      },
      "cell_type": "code",
      "source": [
        "# Importing major libraries\n",
        "import numpy as np\n",
        "import pandas as pd\n",
        "from gensim.models import KeyedVectors\n",
        "from keras.layers import Flatten\n",
        "from keras.layers import MaxPooling1D\n",
        "from keras.models import Model\n",
        "from keras.preprocessing.sequence import pad_sequences\n",
        "from keras.preprocessing.text import Tokenizer\n",
        "from keras.utils import to_categorical\n",
        "\n",
        "\n",
        "MAX_NB_WORDS = 200000\n",
        "MAX_SEQUENCE_LENGTH = 30\n",
        "EMBEDDING_DIM = 300\n",
        "\n",
        "EMBEDDING_FILE = \"GoogleNews-vectors-negative300.bin\"\n",
        "category_index = {\"clothing\":0, \"camera\":1, \"home-appliances\":2}\n",
        "category_reverse_index = dict((y,x) for (x,y) in category_index.items())"
      ],
      "execution_count": 0,
      "outputs": []
    },
    {
      "metadata": {
        "id": "fy1ZbRSPDUBf",
        "colab_type": "code",
        "colab": {
          "base_uri": "https://localhost:8080/",
          "height": 89
        },
        "outputId": "21c1deba-2923-4b64-f297-1942dd0b66f7"
      },
      "cell_type": "code",
      "source": [
        "# Reading the dataset\n",
        "clothing = pd.read_csv(\"clothing.tsv\", sep='\\t')\n",
        "cameras = pd.read_csv(\"cameras.tsv\", sep='\\t')\n",
        "home_appliances = pd.read_csv(\"home.tsv\", sep='\\t')\n",
        "datasets = [clothing, cameras, home_appliances]\n",
        "\n",
        "\n",
        "# Examination of null values\n",
        "print(\"Make sure there are no null values in the datasets\")\n",
        "for data in datasets:\n",
        "    print(\"Has null values: \", data.isnull().values.any())"
      ],
      "execution_count": 68,
      "outputs": [
        {
          "output_type": "stream",
          "text": [
            "Make sure there are no null values in the datasets\n",
            "Has null values:  False\n",
            "Has null values:  False\n",
            "Has null values:  False\n"
          ],
          "name": "stdout"
        }
      ]
    },
    {
      "metadata": {
        "id": "pd-YxrFZDluR",
        "colab_type": "code",
        "colab": {}
      },
      "cell_type": "code",
      "source": [
        "def preprocess(text):\n",
        "    text= text.strip().lower().split()\n",
        "    return \" \".join(text)\n",
        "    \n",
        "for dataset in datasets:\n",
        "    dataset['title'] = dataset['title'].apply(preprocess)"
      ],
      "execution_count": 0,
      "outputs": []
    },
    {
      "metadata": {
        "id": "Er8nGo0JBIia",
        "colab_type": "code",
        "colab": {}
      },
      "cell_type": "code",
      "source": [
        "all_texts = clothing['title'] + cameras['title'] + home_appliances['title']\n",
        "all_texts = all_texts.drop_duplicates(keep=False)\n",
        "\n",
        "tokenizer = Tokenizer(num_words=MAX_NB_WORDS)\n",
        "tokenizer.fit_on_texts(all_texts)\n",
        "\n",
        "clothing_sequences = tokenizer.texts_to_sequences(clothing['title'])\n",
        "electronics_sequences = tokenizer.texts_to_sequences(cameras['title'])\n",
        "home_appliances_sequences = tokenizer.texts_to_sequences(home_appliances['title'])\n",
        "\n",
        "clothing_data = pad_sequences(clothing_sequences, maxlen=MAX_SEQUENCE_LENGTH)\n",
        "electronics_data = pad_sequences(electronics_sequences, maxlen=MAX_SEQUENCE_LENGTH)\n",
        "home_appliances_data = pad_sequences(home_appliances_sequences, maxlen=MAX_SEQUENCE_LENGTH)"
      ],
      "execution_count": 0,
      "outputs": []
    },
    {
      "metadata": {
        "id": "vkX9brybBfS1",
        "colab_type": "code",
        "colab": {
          "base_uri": "https://localhost:8080/",
          "height": 143
        },
        "outputId": "fa0a302c-9188-413f-9965-6310b3a325f8"
      },
      "cell_type": "code",
      "source": [
        "word_index = tokenizer.word_index\n",
        "test_string = \"sports action spy pen camera\"\n",
        "print(\"word\\t\\tid\")\n",
        "print(\"-\" * 20)\n",
        "for word in test_string.split():\n",
        "    print(\"%s\\t\\t%s\" % (word, word_index[word]))"
      ],
      "execution_count": 71,
      "outputs": [
        {
          "output_type": "stream",
          "text": [
            "word\t\tid\n",
            "--------------------\n",
            "sports\t\t16\n",
            "action\t\t13\n",
            "spy\t\t7\n",
            "pen\t\t60\n",
            "camera\t\t2\n"
          ],
          "name": "stdout"
        }
      ]
    },
    {
      "metadata": {
        "id": "CHGNF4RCBoS1",
        "colab_type": "code",
        "colab": {
          "base_uri": "https://localhost:8080/",
          "height": 107
        },
        "outputId": "cb79f535-a010-41c9-ffd4-a8ee38346d0a"
      },
      "cell_type": "code",
      "source": [
        "test_sequence = tokenizer.texts_to_sequences([\"sports action camera\", \"spy pen camera\"])\n",
        "padded_sequence = pad_sequences(test_sequence, maxlen=MAX_SEQUENCE_LENGTH)\n",
        "print(\"Text to Vector\", test_sequence)\n",
        "print(\"Padded Vector\", padded_sequence)"
      ],
      "execution_count": 72,
      "outputs": [
        {
          "output_type": "stream",
          "text": [
            "Text to Vector [[16, 13, 2], [7, 60, 2]]\n",
            "Padded Vector [[ 0  0  0  0  0  0  0  0  0  0  0  0  0  0  0  0  0  0  0  0  0  0  0  0\n",
            "   0  0  0 16 13  2]\n",
            " [ 0  0  0  0  0  0  0  0  0  0  0  0  0  0  0  0  0  0  0  0  0  0  0  0\n",
            "   0  0  0  7 60  2]]\n"
          ],
          "name": "stdout"
        }
      ]
    },
    {
      "metadata": {
        "id": "yNfaPiALC5t0",
        "colab_type": "code",
        "colab": {
          "base_uri": "https://localhost:8080/",
          "height": 71
        },
        "outputId": "eec858ca-5da2-45e5-db5e-be976ff64a94"
      },
      "cell_type": "code",
      "source": [
        "\n",
        "print(\"clothing: \\t\\t\", to_categorical(category_index[\"clothing\"], 3))\n",
        "print(\"camera: \\t\\t\", to_categorical(category_index[\"camera\"], 3))\n",
        "print(\"home appliances: \\t\", to_categorical(category_index[\"home-appliances\"], 3))"
      ],
      "execution_count": 73,
      "outputs": [
        {
          "output_type": "stream",
          "text": [
            "clothing: \t\t [1. 0. 0.]\n",
            "camera: \t\t [0. 1. 0.]\n",
            "home appliances: \t [0. 0. 1.]\n"
          ],
          "name": "stdout"
        }
      ]
    },
    {
      "metadata": {
        "id": "q3fYKCOBB5zr",
        "colab_type": "code",
        "colab": {
          "base_uri": "https://localhost:8080/",
          "height": 125
        },
        "outputId": "2a807c98-d736-48b8-8173-b594d403277a"
      },
      "cell_type": "code",
      "source": [
        "print(\"clothing shape: \", clothing_data.shape)\n",
        "print(\"electronics shape: \", electronics_data.shape)\n",
        "print(\"home appliances shape: \", home_appliances_data.shape)\n",
        "\n",
        "data = np.vstack((clothing_data, electronics_data, home_appliances_data))\n",
        "category = pd.concat([clothing['category'], cameras['category'], home_appliances['category']]).values\n",
        "category = to_categorical(category)\n",
        "print(\"-\"*10)\n",
        "print(\"combined data shape: \", data.shape)\n",
        "print(\"combined category/label shape: \", category.shape)\n"
      ],
      "execution_count": 74,
      "outputs": [
        {
          "output_type": "stream",
          "text": [
            "clothing shape:  (392721, 30)\n",
            "electronics shape:  (1347, 30)\n",
            "home appliances shape:  (11425, 30)\n",
            "----------\n",
            "combined data shape:  (405493, 30)\n",
            "combined category/label shape:  (405493, 3)\n"
          ],
          "name": "stdout"
        }
      ]
    },
    {
      "metadata": {
        "id": "UJRERjjTOkGw",
        "colab_type": "code",
        "colab": {}
      },
      "cell_type": "code",
      "source": [
        "VALIDATION_SPLIT = 0.4\n",
        "indices = np.arange(data.shape[0]) # get sequence of row index\n",
        "np.random.shuffle(indices) # shuffle the row indexes\n",
        "data = data[indices] # shuffle data/product-titles/x-axis\n",
        "category = category[indices] # shuffle labels/category/y-axis\n",
        "nb_validation_samples = int(VALIDATION_SPLIT * data.shape[0])\n",
        "x_train = data[:-nb_validation_samples]\n",
        "y_train = category[:-nb_validation_samples]\n",
        "x_val = data[-nb_validation_samples:]\n",
        "y_val = category[-nb_validation_samples:]"
      ],
      "execution_count": 0,
      "outputs": []
    },
    {
      "metadata": {
        "id": "lUw13fiYfRHh",
        "colab_type": "code",
        "colab": {
          "base_uri": "https://localhost:8080/",
          "height": 215
        },
        "outputId": "3a4f1036-d01d-4cd5-8d59-28a566822c91"
      },
      "cell_type": "code",
      "source": [
        "! wget 'https://s3.amazonaws.com/dl4j-distribution/GoogleNews-vectors-negative300.bin.gz'"
      ],
      "execution_count": 14,
      "outputs": [
        {
          "output_type": "stream",
          "text": [
            "--2018-11-13 13:25:17--  https://s3.amazonaws.com/dl4j-distribution/GoogleNews-vectors-negative300.bin.gz\n",
            "Resolving s3.amazonaws.com (s3.amazonaws.com)... 52.216.165.181\n",
            "Connecting to s3.amazonaws.com (s3.amazonaws.com)|52.216.165.181|:443... connected.\n",
            "HTTP request sent, awaiting response... 200 OK\n",
            "Length: 1647046227 (1.5G) [application/x-gzip]\n",
            "Saving to: ‘GoogleNews-vectors-negative300.bin.gz’\n",
            "\n",
            "GoogleNews-vectors- 100%[===================>]   1.53G  44.0MB/s    in 37s     \n",
            "\n",
            "2018-11-13 13:25:54 (42.8 MB/s) - ‘GoogleNews-vectors-negative300.bin.gz’ saved [1647046227/1647046227]\n",
            "\n"
          ],
          "name": "stdout"
        }
      ]
    },
    {
      "metadata": {
        "id": "TH6Dt2VdgQL_",
        "colab_type": "code",
        "colab": {}
      },
      "cell_type": "code",
      "source": [
        "! gunzip GoogleNews-vectors-negative300.bin.gz"
      ],
      "execution_count": 0,
      "outputs": []
    },
    {
      "metadata": {
        "id": "SC0nvSCMPO97",
        "colab_type": "code",
        "colab": {}
      },
      "cell_type": "code",
      "source": [
        "import gensim\n",
        "word2vec = gensim.models.KeyedVectors.load_word2vec_format(EMBEDDING_FILE, binary=True)  \n"
      ],
      "execution_count": 0,
      "outputs": []
    },
    {
      "metadata": {
        "id": "GQLBCS2eeACQ",
        "colab_type": "code",
        "colab": {
          "base_uri": "https://localhost:8080/",
          "height": 244
        },
        "outputId": "adebf048-d088-42c9-bfd5-962a20e305f1"
      },
      "cell_type": "code",
      "source": [
        "from keras.layers import Embedding\n",
        "word_index = tokenizer.word_index\n",
        "nb_words = min(MAX_NB_WORDS, len(word_index))+1\n",
        "\n",
        "embedding_matrix = np.zeros((nb_words, EMBEDDING_DIM))\n",
        "for word, i in word_index.items():\n",
        "    if word in word2vec.vocab:\n",
        "        embedding_matrix[i] = word2vec.word_vec(word)\n",
        "print('Null word embeddings: %d' % np.sum(np.sum(embedding_matrix, axis=1) == 0))\n",
        "\n",
        "embedding_layer = Embedding(embedding_matrix.shape[0], # or len(word_index) + 1\n",
        "                            embedding_matrix.shape[1], # or EMBEDDING_DIM,\n",
        "                            weights=[embedding_matrix],\n",
        "                            input_length=MAX_SEQUENCE_LENGTH,\n",
        "                            trainable=False)"
      ],
      "execution_count": 76,
      "outputs": [
        {
          "output_type": "error",
          "ename": "ValueError",
          "evalue": "ignored",
          "traceback": [
            "\u001b[0;31m---------------------------------------------------------------------------\u001b[0m",
            "\u001b[0;31mValueError\u001b[0m                                Traceback (most recent call last)",
            "\u001b[0;32m<ipython-input-76-cfc8ba443235>\u001b[0m in \u001b[0;36m<module>\u001b[0;34m()\u001b[0m\n\u001b[1;32m      6\u001b[0m \u001b[0;32mfor\u001b[0m \u001b[0mword\u001b[0m\u001b[0;34m,\u001b[0m \u001b[0mi\u001b[0m \u001b[0;32min\u001b[0m \u001b[0mword_index\u001b[0m\u001b[0;34m.\u001b[0m\u001b[0mitems\u001b[0m\u001b[0;34m(\u001b[0m\u001b[0;34m)\u001b[0m\u001b[0;34m:\u001b[0m\u001b[0;34m\u001b[0m\u001b[0m\n\u001b[1;32m      7\u001b[0m     \u001b[0;32mif\u001b[0m \u001b[0mword\u001b[0m \u001b[0;32min\u001b[0m \u001b[0mword2vec\u001b[0m\u001b[0;34m.\u001b[0m\u001b[0mvocab\u001b[0m\u001b[0;34m:\u001b[0m\u001b[0;34m\u001b[0m\u001b[0m\n\u001b[0;32m----> 8\u001b[0;31m         \u001b[0membedding_matrix\u001b[0m\u001b[0;34m[\u001b[0m\u001b[0mi\u001b[0m\u001b[0;34m]\u001b[0m \u001b[0;34m=\u001b[0m \u001b[0mword2vec\u001b[0m\u001b[0;34m.\u001b[0m\u001b[0mword_vec\u001b[0m\u001b[0;34m(\u001b[0m\u001b[0mword\u001b[0m\u001b[0;34m)\u001b[0m\u001b[0;34m\u001b[0m\u001b[0m\n\u001b[0m\u001b[1;32m      9\u001b[0m \u001b[0mprint\u001b[0m\u001b[0;34m(\u001b[0m\u001b[0;34m'Null word embeddings: %d'\u001b[0m \u001b[0;34m%\u001b[0m \u001b[0mnp\u001b[0m\u001b[0;34m.\u001b[0m\u001b[0msum\u001b[0m\u001b[0;34m(\u001b[0m\u001b[0mnp\u001b[0m\u001b[0;34m.\u001b[0m\u001b[0msum\u001b[0m\u001b[0;34m(\u001b[0m\u001b[0membedding_matrix\u001b[0m\u001b[0;34m,\u001b[0m \u001b[0maxis\u001b[0m\u001b[0;34m=\u001b[0m\u001b[0;36m1\u001b[0m\u001b[0;34m)\u001b[0m \u001b[0;34m==\u001b[0m \u001b[0;36m0\u001b[0m\u001b[0;34m)\u001b[0m\u001b[0;34m)\u001b[0m\u001b[0;34m\u001b[0m\u001b[0m\n\u001b[1;32m     10\u001b[0m \u001b[0;34m\u001b[0m\u001b[0m\n",
            "\u001b[0;31mValueError\u001b[0m: could not broadcast input array from shape (300) into shape (400)"
          ]
        }
      ]
    },
    {
      "metadata": {
        "id": "Qc3zgKIyg-D_",
        "colab_type": "code",
        "colab": {
          "base_uri": "https://localhost:8080/",
          "height": 503
        },
        "outputId": "b1c617cf-bc7c-43f5-df55-d402d07f0fb5"
      },
      "cell_type": "code",
      "source": [
        "from keras.models import Sequential\n",
        "from keras.layers import Conv1D, GlobalMaxPooling1D, Flatten\n",
        "from keras.layers import Dense, Input, LSTM, Embedding, Dropout, Activation\n",
        "\n",
        "\n",
        "model = Sequential()\n",
        "model.add(embedding_layer)\n",
        "model.add(Dropout(0.2))\n",
        "model.add(Conv1D(300, 3, padding='valid',activation='relu',strides=2))\n",
        "model.add(Conv1D(150, 3, padding='valid',activation='relu',strides=2))\n",
        "model.add(Conv1D(75, 3, padding='valid',activation='relu',strides=2))\n",
        "model.add(Flatten())\n",
        "model.add(Dropout(0.2))\n",
        "model.add(Dense(150,activation='sigmoid'))\n",
        "model.add(Dropout(0.2))\n",
        "model.add(Dense(3,activation='sigmoid'))\n",
        "\n",
        "model.compile(loss='categorical_crossentropy',optimizer='rmsprop',metrics=['acc'])\n",
        "\n",
        "model.summary()"
      ],
      "execution_count": 19,
      "outputs": [
        {
          "output_type": "stream",
          "text": [
            "_________________________________________________________________\n",
            "Layer (type)                 Output Shape              Param #   \n",
            "=================================================================\n",
            "embedding_2 (Embedding)      (None, 30, 300)           822900    \n",
            "_________________________________________________________________\n",
            "dropout_1 (Dropout)          (None, 30, 300)           0         \n",
            "_________________________________________________________________\n",
            "conv1d_1 (Conv1D)            (None, 14, 300)           270300    \n",
            "_________________________________________________________________\n",
            "conv1d_2 (Conv1D)            (None, 6, 150)            135150    \n",
            "_________________________________________________________________\n",
            "conv1d_3 (Conv1D)            (None, 2, 75)             33825     \n",
            "_________________________________________________________________\n",
            "flatten_1 (Flatten)          (None, 150)               0         \n",
            "_________________________________________________________________\n",
            "dropout_2 (Dropout)          (None, 150)               0         \n",
            "_________________________________________________________________\n",
            "dense_1 (Dense)              (None, 150)               22650     \n",
            "_________________________________________________________________\n",
            "dropout_3 (Dropout)          (None, 150)               0         \n",
            "_________________________________________________________________\n",
            "dense_2 (Dense)              (None, 3)                 453       \n",
            "=================================================================\n",
            "Total params: 1,285,278\n",
            "Trainable params: 462,378\n",
            "Non-trainable params: 822,900\n",
            "_________________________________________________________________\n"
          ],
          "name": "stdout"
        }
      ]
    },
    {
      "metadata": {
        "id": "TF1PJtWhhGC5",
        "colab_type": "code",
        "colab": {
          "base_uri": "https://localhost:8080/",
          "height": 431
        },
        "outputId": "f3bedc41-1f9c-4dd1-bcea-162c9265b101"
      },
      "cell_type": "code",
      "source": [
        "\n",
        "model_1 = Sequential()\n",
        "model_1.add(embedding_layer)\n",
        "model_1.add(Conv1D(250,3,padding='valid',activation='relu',strides=1))\n",
        "model_1.add(GlobalMaxPooling1D())\n",
        "model_1.add(Dense(250))\n",
        "model_1.add(Dropout(0.2))\n",
        "model_1.add(Activation('relu'))\n",
        "model_1.add(Dense(3))\n",
        "model_1.add(Activation('sigmoid'))\n",
        "model_1.compile(loss='categorical_crossentropy',optimizer='rmsprop',metrics=['acc'])\n",
        "model_1.summary()"
      ],
      "execution_count": 20,
      "outputs": [
        {
          "output_type": "stream",
          "text": [
            "_________________________________________________________________\n",
            "Layer (type)                 Output Shape              Param #   \n",
            "=================================================================\n",
            "embedding_2 (Embedding)      (None, 30, 300)           822900    \n",
            "_________________________________________________________________\n",
            "conv1d_4 (Conv1D)            (None, 28, 250)           225250    \n",
            "_________________________________________________________________\n",
            "global_max_pooling1d_1 (Glob (None, 250)               0         \n",
            "_________________________________________________________________\n",
            "dense_3 (Dense)              (None, 250)               62750     \n",
            "_________________________________________________________________\n",
            "dropout_4 (Dropout)          (None, 250)               0         \n",
            "_________________________________________________________________\n",
            "activation_1 (Activation)    (None, 250)               0         \n",
            "_________________________________________________________________\n",
            "dense_4 (Dense)              (None, 3)                 753       \n",
            "_________________________________________________________________\n",
            "activation_2 (Activation)    (None, 3)                 0         \n",
            "=================================================================\n",
            "Total params: 1,111,653\n",
            "Trainable params: 288,753\n",
            "Non-trainable params: 822,900\n",
            "_________________________________________________________________\n"
          ],
          "name": "stdout"
        }
      ]
    },
    {
      "metadata": {
        "id": "fF_RzJcohKzw",
        "colab_type": "code",
        "colab": {
          "base_uri": "https://localhost:8080/",
          "height": 251
        },
        "outputId": "d85039c4-5fcf-4978-9a1c-bdeb5381639b"
      },
      "cell_type": "code",
      "source": [
        "histoy_model = model.fit(x_train, y_train, validation_data=(x_val, y_val), epochs=5, batch_size=128)\n",
        "score = model.evaluate(x_val, y_val, verbose=0)\n",
        "print('Test loss:', score[0])\n",
        "print('Test accuracy:', score[1])"
      ],
      "execution_count": 22,
      "outputs": [
        {
          "output_type": "stream",
          "text": [
            "Train on 243296 samples, validate on 162197 samples\n",
            "Epoch 1/5\n",
            "243296/243296 [==============================] - 31s 128us/step - loss: 0.1179 - acc: 0.9743 - val_loss: 0.1072 - val_acc: 0.9774\n",
            "Epoch 2/5\n",
            "243296/243296 [==============================] - 30s 125us/step - loss: 0.1098 - acc: 0.9768 - val_loss: 0.1054 - val_acc: 0.9777\n",
            "Epoch 3/5\n",
            "243296/243296 [==============================] - 31s 126us/step - loss: 0.1089 - acc: 0.9771 - val_loss: 0.1072 - val_acc: 0.9775\n",
            "Epoch 4/5\n",
            "243296/243296 [==============================] - 30s 125us/step - loss: 0.1090 - acc: 0.9773 - val_loss: 0.1063 - val_acc: 0.9779\n",
            "Epoch 5/5\n",
            "243296/243296 [==============================] - 31s 128us/step - loss: 0.1092 - acc: 0.9773 - val_loss: 0.1081 - val_acc: 0.9777\n",
            "Test loss: 0.10809600428579581\n",
            "Test accuracy: 0.9776752960905566\n"
          ],
          "name": "stdout"
        }
      ]
    },
    {
      "metadata": {
        "id": "PwNx-5jJRglD",
        "colab_type": "code",
        "colab": {
          "base_uri": "https://localhost:8080/",
          "height": 376
        },
        "outputId": "b2bad196-90d8-461b-fa52-140b3b6c5a33"
      },
      "cell_type": "code",
      "source": [
        "import matplotlib.pyplot as plt\n",
        "plt.plot(history_model_1.history['val_acc'])"
      ],
      "execution_count": 55,
      "outputs": [
        {
          "output_type": "execute_result",
          "data": {
            "text/plain": [
              "[<matplotlib.lines.Line2D at 0x7f72700a8b70>]"
            ]
          },
          "metadata": {
            "tags": []
          },
          "execution_count": 55
        },
        {
          "output_type": "display_data",
          "data": {
            "image/png": "[encoded data removed]",
            "text/plain": [
              "<matplotlib.figure.Figure at 0x7f7270147b70>"
            ]
          },
          "metadata": {
            "tags": []
          }
        }
      ]
    },
    {
      "metadata": {
        "id": "QM7LdXljhhTf",
        "colab_type": "code",
        "colab": {
          "base_uri": "https://localhost:8080/",
          "height": 251
        },
        "outputId": "1bb61416-0b09-4bbb-a519-eda0664abba6"
      },
      "cell_type": "code",
      "source": [
        "history_model_1 = model_1.fit(x_train, y_train, validation_data=(x_val, y_val), epochs=5, batch_size=128)\n",
        "score = model_1.evaluate(x_val, y_val, verbose=0)\n",
        "print('Test loss:', score[0])\n",
        "print('Test accuracy:', score[1])"
      ],
      "execution_count": 25,
      "outputs": [
        {
          "output_type": "stream",
          "text": [
            "Train on 243296 samples, validate on 162197 samples\n",
            "Epoch 1/5\n",
            "243296/243296 [==============================] - 21s 87us/step - loss: 0.0030 - acc: 0.9990 - val_loss: 0.0015 - val_acc: 0.9998\n",
            "Epoch 2/5\n",
            "243296/243296 [==============================] - 20s 84us/step - loss: 6.3276e-04 - acc: 0.9999 - val_loss: 0.0014 - val_acc: 0.9999\n",
            "Epoch 3/5\n",
            "243296/243296 [==============================] - 20s 84us/step - loss: 4.0628e-04 - acc: 1.0000 - val_loss: 0.0016 - val_acc: 0.9999\n",
            "Epoch 4/5\n",
            "243296/243296 [==============================] - 20s 84us/step - loss: 3.8252e-04 - acc: 1.0000 - val_loss: 0.0011 - val_acc: 0.9999\n",
            "Epoch 5/5\n",
            "243296/243296 [==============================] - 21s 85us/step - loss: 4.0453e-04 - acc: 1.0000 - val_loss: 0.0013 - val_acc: 0.9999\n",
            "Test loss: 0.0012650508264004572\n",
            "Test accuracy: 0.9998890238413781\n"
          ],
          "name": "stdout"
        }
      ]
    },
    {
      "metadata": {
        "id": "tpuMLcPCh0rb",
        "colab_type": "code",
        "colab": {
          "base_uri": "https://localhost:8080/",
          "height": 125
        },
        "outputId": "8a19c98f-8e0f-4ee0-8411-1fa80b66555f"
      },
      "cell_type": "code",
      "source": [
        "example_product = \"Nikon Coolpix A10 Point and Shoot Camera (Black)\"\n",
        "\n",
        "example_product = preprocess(example_product)\n",
        "example_sequence = tokenizer.texts_to_sequences([example_product])\n",
        "example_padded_sequence = pad_sequences(example_sequence, maxlen=MAX_SEQUENCE_LENGTH)\n",
        "\n",
        "print(\"-\"*10)\n",
        "print(\"Predicted category: \", category_reverse_index[model_1.predict_classes(example_padded_sequence, verbose=0)[0]])\n",
        "print(\"-\"*10)\n",
        "probabilities = model_1.predict(example_padded_sequence, verbose=0)\n",
        "probabilities = probabilities[0]\n",
        "print(\"Clothing Probability: \",probabilities[category_index[\"clothing\"]] )\n",
        "print(\"Camera Probability: \",probabilities[category_index[\"camera\"]] )\n",
        "print(\"home appliances probability: \",probabilities[category_index[\"home-appliances\"]] )"
      ],
      "execution_count": 53,
      "outputs": [
        {
          "output_type": "stream",
          "text": [
            "----------\n",
            "Predicted category:  camera\n",
            "----------\n",
            "Clothing Probability:  9.572911e-16\n",
            "Camera Probability:  0.99854654\n",
            "home appliances probability:  1.149698e-12\n"
          ],
          "name": "stdout"
        }
      ]
    }
  ]
}